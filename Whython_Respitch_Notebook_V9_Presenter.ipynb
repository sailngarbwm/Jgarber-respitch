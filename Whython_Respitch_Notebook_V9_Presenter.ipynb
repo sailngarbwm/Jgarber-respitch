{
 "cells": [
  {
   "cell_type": "code",
   "execution_count": null,
   "metadata": {
    "slideshow": {
     "slide_type": "skip"
    }
   },
   "outputs": [],
   "source": [
    "# import urllib3\n",
    "import pickle\n",
    "import itertools\n",
    "import numpy as np\n",
    "# !conda install -y matplotlib\n",
    "from matplotlib import pyplot as plt\n",
    "# import certifi\n",
    "%matplotlib inline"
   ]
  },
  {
   "cell_type": "code",
   "execution_count": null,
   "metadata": {
    "slideshow": {
     "slide_type": "skip"
    }
   },
   "outputs": [],
   "source": [
    "\n",
    "from ipywidgets import interact, fixed\n",
    "#note, interact wants you to reference all the inputs even if they are prefilled\n",
    "\n"
   ]
  },
  {
   "cell_type": "code",
   "execution_count": null,
   "metadata": {
    "slideshow": {
     "slide_type": "skip"
    }
   },
   "outputs": [],
   "source": [
    "from jgarber_respitch.interactive_plots import interact_drug_data\n",
    "\n"
   ]
  },
  {
   "cell_type": "code",
   "execution_count": null,
   "metadata": {},
   "outputs": [],
   "source": [
    "import Python_kitchen_tools\n",
    "\n",
    "drug_use, drugs = Python_kitchen_tools.load_drug_data()"
   ]
  },
  {
   "cell_type": "code",
   "execution_count": null,
   "metadata": {},
   "outputs": [],
   "source": [
    "interact(drug_plot, drug = drugs,drug_use = fixed(drug_use))"
   ]
  },
  {
   "cell_type": "code",
   "execution_count": null,
   "metadata": {
    "slideshow": {
     "slide_type": "skip"
    }
   },
   "outputs": [],
   "source": [
    "# import word list\n",
    "# http = urllib3.PoolManager(cert_reqs='CERT_REQUIRED',ca_certs=certifi.where())\n",
    "# target_url = \"https://raw.githubusercontent.com/dwyl/english-words/master/words_alpha.txt\"\n",
    "# r = http.request('GET',target_url)\n",
    "# wordlist = str(r.data.decode('utf-8')).split('\\r\\n')\n",
    "\n",
    "with open('data/dictionary','rb') as file:\n",
    "    wordlist = set(pickle.load(file))"
   ]
  },
  {
   "cell_type": "code",
   "execution_count": null,
   "metadata": {
    "slideshow": {
     "slide_type": "skip"
    }
   },
   "outputs": [],
   "source": [
    "import string\n",
    "alphabet = string.ascii_letters\n",
    "alphaset = set(alphabet)\n",
    "from IPython.display import Markdown, display, HTML\n",
    "def printmd(string):\n",
    "    display(Markdown(string))\n",
    "printmd('**bold**')\n",
    "\n",
    "def printhtml(string):\n",
    "    display(HTML(string))\n",
    "\n",
    "moss_vid = '<center><iframe width=\"560\" height=\"315\" src=\"https://www.youtube.com/embed/g9ixvD0_CmM?rel=0&amp;start=15\" frameborder=\"0\" allow=\"autoplay; encrypted-media\" allowfullscreen></iframe><?center>'\n",
    "def play_moss():\n",
    "    printhtml(moss_vid)"
   ]
  },
  {
   "cell_type": "code",
   "execution_count": null,
   "metadata": {
    "slideshow": {
     "slide_type": "skip"
    }
   },
   "outputs": [],
   "source": [
    "### Here we make a function that tells us whether or not its an english word\n",
    "\n",
    "english_words = set(word.strip().lower() for word in wordlist)\n",
    "def is_english_word(word):\n",
    "    \n",
    "    if word.lower() in english_words:\n",
    "        print('\"'+word + '\" is a word')\n",
    "        return \n",
    "        \n",
    "   \n",
    "    else:\n",
    "        return\n",
    "\n",
    "is_english_word('abed')"
   ]
  },
  {
   "cell_type": "code",
   "execution_count": null,
   "metadata": {
    "slideshow": {
     "slide_type": "skip"
    }
   },
   "outputs": [],
   "source": [
    "from ipywidgets import widgets, HBox, VBox, Layout\n",
    "class countbutton(widgets.Button):\n",
    "    def __init__(self,*args,**kwargs):\n",
    "        super(countbutton, self).__init__(*args, **kwargs)\n",
    "        self.countnum = 0 #adding an attribute to keep count of shit\n",
    "    def getcount():\n",
    "        return self.countnum"
   ]
  },
  {
   "cell_type": "code",
   "execution_count": null,
   "metadata": {
    "slideshow": {
     "slide_type": "skip"
    }
   },
   "outputs": [],
   "source": [
    "from numpy import random\n",
    "\n",
    "\n",
    "\n",
    "\n",
    "def countdown(teamname, num = 9): #note max number of teams 5 atm\n",
    "    i = 0\n",
    "    out = ''\n",
    "    vow = ['a','e','i','o','u','y']\n",
    "    con = ['B','C','D','F','G','H','J','K','L','M','N','P','Q','R','S','t','v','x','z','w']\n",
    "    from random import shuffle\n",
    "    shuffle(teamname)\n",
    "    teamnamelist = teamname*num\n",
    "    teamnamelist = teamnamelist[0:num+1]\n",
    "    teamnamelist.append('Ready to play Letters/Countdown?')\n",
    "    # make the layout of the game\n",
    "    \n",
    "    vow_lay = Layout(width = '33%', height = \"100px\")\n",
    "    vowels = countbutton(description = 'vowels', layout = vow_lay)\n",
    "    def restylebutton(b, col = 'blue'):\n",
    "        b.button_style = 'success'\n",
    "        b.style.button_color = col\n",
    "    restylebutton(vowels)\n",
    "    consonants = countbutton(description = 'consonants', layout = vow_lay)\n",
    "    restylebutton(consonants)\n",
    "    emptybox = widgets.Button(description = '', layout = vow_lay)\n",
    "    emptybox.style.button_color = 'lightblue'\n",
    "    emptybox.button_color = 'lightblue'\n",
    "    \n",
    "    def make_letterbox():\n",
    "        letterbox = widgets.Button(description = '', layout = Layout(height = '100px'))\n",
    "        letterbox.button_color = 'lightblue'\n",
    "        return letterbox\n",
    "    letterboxes = []\n",
    "    for t in range(0,num):\n",
    "        box = make_letterbox()\n",
    "        letterboxes.append(box)\n",
    "\n",
    "    titlebox = widgets.HTML()\n",
    "    titlebox.value = '<h1>'+teamnamelist[0]+' Choose a Consonant or a Vowel</h1>'\n",
    "    #restylebutton(titlebox, col = 'lightblue')\n",
    "    titlebox.layout.width ='100%'\n",
    "    titlebox.layout.height = '100px'\n",
    "    top_box = HBox([titlebox])\n",
    "    middle_box = HBox([vowels,emptybox,consonants])\n",
    "    \n",
    "    low_box = HBox(letterboxes)\n",
    "\n",
    "\n",
    "    \n",
    "    #return outbox, letterboxes, titlebox\n",
    "    \n",
    "    \n",
    "    def vowelclick(b,cb = consonants, titlebox=titlebox, middlebox=emptybox):\n",
    "        i = b.countnum\n",
    "        inde = random.randint(0,(len(vow)-1))\n",
    "        out = vow[inde]\n",
    "        restylebutton(letterboxes[i])\n",
    "        letterboxes[i].description = out.upper()\n",
    "        i = i+1\n",
    "        b.countnum = i\n",
    "        cb.countnum = i\n",
    "        if i <= num-1:\n",
    "            titlebox.value = '<h1>'+teamnamelist[i] +' Choose a Consonant or a Vowel</h1>'\n",
    "        else:\n",
    "            titlebox.value = \"<h1>We are ready to play the game!</h1>\"\n",
    "#             middlebox.on_click(playclick)\n",
    "        return\n",
    "\n",
    "    def conclick(b,vb = vowels,titlebox=titlebox, middlebox=emptybox):\n",
    "        i = b.countnum\n",
    "        inde = random.randint(0,(len(con)-1))\n",
    "        out = con[inde]\n",
    "        restylebutton(letterboxes[i])\n",
    "        letterboxes[i].description = out.upper()\n",
    "        i = i+1\n",
    "        b.countnum = i\n",
    "        vb.countnum = i\n",
    "        \n",
    "        if i <= num-1:\n",
    "            titlebox.value = '<h1>'+teamnamelist[i] +' Choose a Consonant or a Vowel</h1>'\n",
    "        else:\n",
    "            titlebox.value = \"<h1>We are ready to play the game!</h1>\"\n",
    "#             middlebox.on_click(playclick)\n",
    "        return\n",
    "    \n",
    "    vowels.on_click(vowelclick)\n",
    "    consonants.on_click(conclick)\n",
    "    \n",
    "    outbox = VBox([top_box,middle_box,low_box])\n",
    "    VBox.Layout = Layout(height='400px')\n",
    "    return outbox, letterboxes\n",
    "    \n",
    "    \n",
    "   \n",
    "        \n",
    "def playclick(lb):\n",
    "    youtube = '<center><iframe width=\"560\" height=\"315\" src=\"https://www.youtube.com/embed/2JVwo3D72cc?rel=0&amp\" frameborder=\"0\" allow=\"autoplay; encrypted-media\" allowfullscreen></iframe></center>'\n",
    "    vidbox = widgets.HTML(value = youtube, placeholder = '<h1>youtube disabled</h1>')\n",
    "    top_box = HBox([vidbox])\n",
    "    top_box_layout = Layout(height = '60%', align_items='stretch')\n",
    "    top_box.Layout = top_box_layout\n",
    "    lowbox = HBox(lb)\n",
    "    lowbox_box_layout = Layout(height = '40%')\n",
    "    lowbox.Layout = lowbox_box_layout\n",
    "    container = VBox([top_box,lowbox])\n",
    "    display(container)\n",
    "    return \n",
    "\n",
    "            \n",
    "            "
   ]
  },
  {
   "cell_type": "code",
   "execution_count": null,
   "metadata": {
    "slideshow": {
     "slide_type": "skip"
    }
   },
   "outputs": [],
   "source": [
    "w,lb = countdown(teamname=['team1','team2'], num = 9)\n",
    "display(w)"
   ]
  },
  {
   "cell_type": "code",
   "execution_count": null,
   "metadata": {
    "slideshow": {
     "slide_type": "skip"
    }
   },
   "outputs": [],
   "source": [
    "playclick(lb)"
   ]
  },
  {
   "cell_type": "code",
   "execution_count": null,
   "metadata": {
    "slideshow": {
     "slide_type": "skip"
    }
   },
   "outputs": [],
   "source": []
  },
  {
   "cell_type": "code",
   "execution_count": null,
   "metadata": {
    "slideshow": {
     "slide_type": "skip"
    }
   },
   "outputs": [],
   "source": [
    "def string_combos(string):\n",
    "    num = len(string)\n",
    "    ans = list()\n",
    "    for t in range(0,num):\n",
    "        num2 = num-t\n",
    "        itr1 = itertools.permutations(string,num2)\n",
    "        for itr in itr1:\n",
    "            wrd = ''.join(itr)\n",
    "            ans.append(wrd)\n",
    "    return ans"
   ]
  },
  {
   "cell_type": "code",
   "execution_count": null,
   "metadata": {
    "slideshow": {
     "slide_type": "skip"
    }
   },
   "outputs": [],
   "source": [
    "def all_words(letters, alphaset=alphaset, num=9):\n",
    "    if type(letters) is list:\n",
    "        letters = letters[0]\n",
    "    if type(letters) is not str:\n",
    "        printmd('<span style=\"color:red\">**Woah there Mates!**, you have input something that is not a string!  \\n **A Suggestion:** We should make sure that our input is text ok?</span>')\n",
    "        return\n",
    "    if any(char not in alphaset for char in letters) is True:\n",
    "        printmd('<span style=\"color:red\">**Woah there Mates!**, you have input some funky looking letters!  \\n **A Suggestion:**  make sure you do not have any special characters or spaces in your input ok?</span>')\n",
    "        return\n",
    "    if len(letters) > num:\n",
    "        printmd('<span style=\"color:red\">**Woah there Mates!**, That string is a bit long  \\n **A Suggestion:**  make sure you only have 9 letters ok?</span>')\n",
    "        return\n",
    "    l_comb = string_combos(letters)\n",
    "\n",
    "    for comb in l_comb:\n",
    "        is_english_word(comb)"
   ]
  },
  {
   "cell_type": "code",
   "execution_count": null,
   "metadata": {
    "slideshow": {
     "slide_type": "skip"
    }
   },
   "outputs": [],
   "source": [
    "all_words(['sasdfsdf'])"
   ]
  },
  {
   "cell_type": "markdown",
   "metadata": {
    "slideshow": {
     "slide_type": "slide"
    }
   },
   "source": [
    "<h1><center>Whython? Python!</center></h1>"
   ]
  },
  {
   "cell_type": "markdown",
   "metadata": {
    "slideshow": {
     "slide_type": "slide"
    }
   },
   "source": [
    "<h1><center>Why Code?</center></h1>"
   ]
  },
  {
   "cell_type": "markdown",
   "metadata": {
    "slideshow": {
     "slide_type": "fragment"
    }
   },
   "source": [
    "###           - Librarians are the original researchers"
   ]
  },
  {
   "cell_type": "markdown",
   "metadata": {
    "slideshow": {
     "slide_type": "fragment"
    }
   },
   "source": [
    "###           - All Researchers are data scientists, which is often most effective with coding"
   ]
  },
  {
   "cell_type": "markdown",
   "metadata": {
    "slideshow": {
     "slide_type": "fragment"
    }
   },
   "source": [
    "###           - You can go from months to minutes by automating the boring stuff"
   ]
  },
  {
   "cell_type": "markdown",
   "metadata": {
    "slideshow": {
     "slide_type": "fragment"
    }
   },
   "source": [
    "###           - It leaves a readable list of instructions describing your analysis"
   ]
  },
  {
   "cell_type": "markdown",
   "metadata": {
    "slideshow": {
     "slide_type": "slide"
    }
   },
   "source": [
    "### Turn This\n",
    "<img src=\"imbedded_pics\\hell_ss.gif\" alt=\"dr_evil\" style=\"width:auto;height:60vh\">"
   ]
  },
  {
   "cell_type": "code",
   "execution_count": null,
   "metadata": {
    "scrolled": true,
    "slideshow": {
     "slide_type": "slide"
    }
   },
   "outputs": [],
   "source": [
    "# interact(drug_plot, drug = drugs,drug_use = fixed(drug_use))\n",
    "interact_drug_data()"
   ]
  },
  {
   "attachments": {
    "image.png": {
     "image/png": "[encoded data removed]"
    }
   },
   "cell_type": "markdown",
   "metadata": {
    "slideshow": {
     "slide_type": "slide"
    }
   },
   "source": [
    "# You already know how to Code!\n",
    "\n",
    "\n",
    "\n",
    "![image.png](attachment:image.png)\n"
   ]
  },
  {
   "cell_type": "code",
   "execution_count": null,
   "metadata": {
    "slideshow": {
     "slide_type": "fragment"
    }
   },
   "outputs": [],
   "source": [
    "# Calculating a mean in Python\n",
    "b = [1,2,3]\n",
    "np.mean(b)  #a function that calculates the mean"
   ]
  },
  {
   "cell_type": "markdown",
   "metadata": {
    "slideshow": {
     "slide_type": "slide"
    }
   },
   "source": [
    "## Why Python?"
   ]
  },
  {
   "cell_type": "markdown",
   "metadata": {
    "slideshow": {
     "slide_type": "slide"
    }
   },
   "source": [
    "### Open Source General Purpose Programming Language\n",
    "\n",
    "\n",
    "\n",
    "\n"
   ]
  },
  {
   "cell_type": "markdown",
   "metadata": {
    "slideshow": {
     "slide_type": "fragment"
    }
   },
   "source": [
    "#### Some Python Powered Programs:\n",
    "<img src=\"imbedded_pics\\ppp.png\" alt=\"dr_evil\" style=\"width:auto;height:55vh\">"
   ]
  },
  {
   "cell_type": "markdown",
   "metadata": {
    "slideshow": {
     "slide_type": "slide"
    }
   },
   "source": [
    "### With a side of Data science\n",
    "\n"
   ]
  },
  {
   "cell_type": "markdown",
   "metadata": {
    "slideshow": {
     "slide_type": "fragment"
    }
   },
   "source": [
    "#### Replacements for R and MATLAB:\n",
    "\n",
    "<img src=\"imbedded_pics\\PP packages.png\" alt=\"dr_evil\" style=\"width:auto;height:55vh\">"
   ]
  },
  {
   "cell_type": "markdown",
   "metadata": {
    "slideshow": {
     "slide_type": "slide"
    }
   },
   "source": [
    "## Python is the hero of languages:\n",
    "\n",
    "<img src=\"imbedded_pics\\skywalker.jpg\" alt=\"dr_evil\" style=\"width:auto;height:60vh\">"
   ]
  },
  {
   "cell_type": "markdown",
   "metadata": {
    "slideshow": {
     "slide_type": "slide"
    }
   },
   "source": [
    "## Python advantages:\n",
    "- Designed to be easy to read and learn\n",
    "- Super popular so lots of help out there\n",
    "- Also always seems to have a special power to win the day!"
   ]
  },
  {
   "cell_type": "markdown",
   "metadata": {
    "slideshow": {
     "slide_type": "slide"
    }
   },
   "source": [
    "## But what can you do with it?"
   ]
  },
  {
   "cell_type": "markdown",
   "metadata": {
    "slideshow": {
     "slide_type": "fragment"
    }
   },
   "source": [
    "- Do advanced text analysis with linguistic libraries like the Natural Language Toolkit"
   ]
  },
  {
   "cell_type": "markdown",
   "metadata": {
    "slideshow": {
     "slide_type": "fragment"
    }
   },
   "source": [
    "- Create websites with frameworks such as Django and Flask"
   ]
  },
  {
   "cell_type": "markdown",
   "metadata": {
    "slideshow": {
     "slide_type": "fragment"
    }
   },
   "source": [
    "- Train Machine Learning models with tools like, Tensorflow, fastai, and Scikit-learn"
   ]
  },
  {
   "cell_type": "markdown",
   "metadata": {
    "slideshow": {
     "slide_type": "fragment"
    }
   },
   "source": [
    "- Scrape the internet for data"
   ]
  },
  {
   "cell_type": "markdown",
   "metadata": {
    "slideshow": {
     "slide_type": "fragment"
    }
   },
   "source": [
    "- Automate the boring stuff by reorganizing files and spreadsheets"
   ]
  },
  {
   "cell_type": "markdown",
   "metadata": {
    "slideshow": {
     "slide_type": "fragment"
    }
   },
   "source": [
    "- Do most of what MATLAB and R can do, along with interacting with those programs and other"
   ]
  },
  {
   "cell_type": "markdown",
   "metadata": {
    "slideshow": {
     "slide_type": "slide"
    }
   },
   "source": [
    "## Instead we will play the Letters game from Letters and Numbers (Or Countdown)\n",
    "\n",
    "### The task: Make the longest word out of nine randomly picked letters"
   ]
  },
  {
   "cell_type": "code",
   "execution_count": null,
   "metadata": {
    "slideshow": {
     "slide_type": "slide"
    }
   },
   "outputs": [],
   "source": [
    "play_moss()"
   ]
  },
  {
   "attachments": {
    "image.png": {
     "image/png": "[encoded data removed]"
    }
   },
   "cell_type": "markdown",
   "metadata": {
    "slideshow": {
     "slide_type": "slide"
    }
   },
   "source": [
    "# You already know how to Code!\n",
    "\n",
    "\n",
    "\n",
    "![image.png](attachment:image.png)\n"
   ]
  },
  {
   "cell_type": "code",
   "execution_count": null,
   "metadata": {
    "slideshow": {
     "slide_type": "fragment"
    }
   },
   "outputs": [],
   "source": [
    "# Calculating a mean in Python\n",
    "b = [1,2,3]\n",
    "np.mean(b)  #a function that calculates the mean\n",
    "\n",
    "\n"
   ]
  },
  {
   "cell_type": "markdown",
   "metadata": {
    "slideshow": {
     "slide_type": "slide"
    }
   },
   "source": [
    "### So what are we doing  here?"
   ]
  },
  {
   "cell_type": "markdown",
   "metadata": {
    "collapsed": true,
    "slideshow": {
     "slide_type": "fragment"
    }
   },
   "source": [
    "## Our Python Interpreter is like a well behaved dog\n",
    "\n",
    "![a dog](http://janfennellthedoglistener.com/static/cms/ConfusedDog.png \"When you try to give you computer human words\")"
   ]
  },
  {
   "cell_type": "markdown",
   "metadata": {
    "collapsed": true,
    "slideshow": {
     "slide_type": "slide"
    }
   },
   "source": [
    "## Scripting is just giving this dog a list of instructions, much like a recipe\n",
    "\n",
    "\n",
    "<center><img src=\"imbedded_pics\\puppy-chefs.jpg\" alt=\"dr_evil\" style=\"width:auto;height:70vh\"></center>\n"
   ]
  },
  {
   "cell_type": "markdown",
   "metadata": {
    "slideshow": {
     "slide_type": "slide"
    }
   },
   "source": [
    "### Like all recipes we just need our python scripts to be"
   ]
  },
  {
   "cell_type": "markdown",
   "metadata": {
    "slideshow": {
     "slide_type": "fragment"
    }
   },
   "source": [
    "- In a logical order"
   ]
  },
  {
   "cell_type": "markdown",
   "metadata": {
    "slideshow": {
     "slide_type": "fragment"
    }
   },
   "source": [
    "- written in commands our dog understands"
   ]
  },
  {
   "cell_type": "markdown",
   "metadata": {
    "slideshow": {
     "slide_type": "slide"
    }
   },
   "source": [
    "### In our Py Kitchen our Data are our ingredients\n",
    "\n",
    "```python\n",
    "Data = Bread\n",
    "```\n",
    "\n",
    "<center><img src=\"imbedded_pics\\1200px-Anadama_bread_(1).jpg\" alt=\"dr_evil\" style=\"width:auto;height:70vh\"></center>\n"
   ]
  },
  {
   "cell_type": "markdown",
   "metadata": {
    "slideshow": {
     "slide_type": "slide"
    }
   },
   "source": [
    "### And functions are like kitchen tools"
   ]
  },
  {
   "cell_type": "code",
   "execution_count": null,
   "metadata": {
    "slideshow": {
     "slide_type": "fragment"
    }
   },
   "outputs": [],
   "source": [
    "from jgarber_respitch.Python_kitchen_tools_V3 import Toaster\n",
    "\n",
    "data = 'Bread'\n",
    "Toast = Toaster(data)"
   ]
  },
  {
   "cell_type": "code",
   "execution_count": null,
   "metadata": {
    "slideshow": {
     "slide_type": "slide"
    }
   },
   "outputs": [],
   "source": [
    "# Calculating a mean in Python\n",
    "b = [1,2,3]\n",
    "np.mean(b)  #a function that calculates the mean\n",
    "\n",
    "\n"
   ]
  },
  {
   "cell_type": "markdown",
   "metadata": {
    "slideshow": {
     "slide_type": "slide"
    }
   },
   "source": [
    "## but we don't want numbers, we want Letters right? \n",
    "\n",
    "#### Python calls any bit of text a *String*, and it knows its a string because we put \"quotation\" marks around it\n",
    "\n",
    "\n"
   ]
  },
  {
   "cell_type": "markdown",
   "metadata": {
    "slideshow": {
     "slide_type": "slide"
    }
   },
   "source": [
    "## Kind of like Dr. Evil...\n",
    "<center><img src=\"imbedded_pics\\Dr_evil.png\" alt=\"dr_evil\" style=\"width:auto;height:70vh\"></center>"
   ]
  },
  {
   "cell_type": "code",
   "execution_count": null,
   "metadata": {
    "slideshow": {
     "slide_type": "slide"
    }
   },
   "outputs": [],
   "source": [
    "\"This\"\n"
   ]
  },
  {
   "cell_type": "code",
   "execution_count": null,
   "metadata": {
    "slideshow": {
     "slide_type": "fragment"
    }
   },
   "outputs": [],
   "source": [
    "'abcd\"\"891 '\n"
   ]
  },
  {
   "cell_type": "markdown",
   "metadata": {
    "slideshow": {
     "slide_type": "slide"
    }
   },
   "source": [
    "### But what if we want to use this text again?\n",
    "\n",
    "#### if only we could *assign*  our string a nickname...... It'd be pretty Australian!!\n",
    "\n"
   ]
  },
  {
   "cell_type": "markdown",
   "metadata": {
    "slideshow": {
     "slide_type": "slide"
    }
   },
   "source": [
    "<center><img src=\"imbedded_pics\\Aussie_slang.png\" alt=\"aus_slang\" style=\"width:auto;height:70vh\"></center>"
   ]
  },
  {
   "cell_type": "code",
   "execution_count": null,
   "metadata": {
    "slideshow": {
     "slide_type": "slide"
    }
   },
   "outputs": [],
   "source": [
    "Garbo = 'Jonathan Lloyd Garber'"
   ]
  },
  {
   "cell_type": "code",
   "execution_count": null,
   "metadata": {
    "slideshow": {
     "slide_type": "fragment"
    }
   },
   "outputs": [],
   "source": [
    "Garbo"
   ]
  },
  {
   "cell_type": "code",
   "execution_count": null,
   "metadata": {
    "slideshow": {
     "slide_type": "fragment"
    }
   },
   "outputs": [],
   "source": [
    "L = 'abcde'\n",
    "L"
   ]
  },
  {
   "cell_type": "markdown",
   "metadata": {
    "slideshow": {
     "slide_type": "slide"
    }
   },
   "source": [
    "#### Meet our first special power\n",
    "```python\n",
    "all_words(Letters)\n",
    "```\n",
    "**Inputs:**\n",
    "\n",
    "***Letters:*** a string of letters or a variable containing a string of letters\n",
    "\n",
    "**Outputs:**\n",
    "\n",
    "A print out of every word from longest to shortest beneath our cell of code"
   ]
  },
  {
   "cell_type": "code",
   "execution_count": null,
   "metadata": {
    "slideshow": {
     "slide_type": "slide"
    }
   },
   "outputs": [],
   "source": [
    "all_words('abc')"
   ]
  },
  {
   "cell_type": "code",
   "execution_count": null,
   "metadata": {
    "scrolled": true,
    "slideshow": {
     "slide_type": "fragment"
    }
   },
   "outputs": [],
   "source": [
    "all_words('abcde')"
   ]
  },
  {
   "cell_type": "markdown",
   "metadata": {
    "slideshow": {
     "slide_type": "slide"
    }
   },
   "source": [
    "### We now have the building blocks to hack Letters and Numbers\n",
    "\n",
    " 1.) enter the letters into a python cell as a *string* and *assign* them a nickname\n",
    " \n",
    " 2.) Chuck that *string* of letters into our new magic doodad - all_words() (using it's nickname maybe?)\n",
    " \n",
    " 3.) Win Letters and Numbers!\n",
    " \n"
   ]
  },
  {
   "cell_type": "markdown",
   "metadata": {
    "slideshow": {
     "slide_type": "slide"
    }
   },
   "source": [
    " #### Now try it for 'ABCDEFGHI'"
   ]
  },
  {
   "cell_type": "code",
   "execution_count": null,
   "metadata": {
    "slideshow": {
     "slide_type": "fragment"
    }
   },
   "outputs": [],
   "source": [
    "# Enter the letters into python and assign them a nickname:\n",
    "\n"
   ]
  },
  {
   "cell_type": "code",
   "execution_count": null,
   "metadata": {
    "slideshow": {
     "slide_type": "fragment"
    }
   },
   "outputs": [],
   "source": [
    "# and put that variable int our magic doodad: all_word()"
   ]
  },
  {
   "cell_type": "markdown",
   "metadata": {
    "slideshow": {
     "slide_type": "slide"
    }
   },
   "source": [
    "#### Lets play the Game show!! But first, I need team names"
   ]
  },
  {
   "cell_type": "code",
   "execution_count": null,
   "metadata": {
    "slideshow": {
     "slide_type": "fragment"
    }
   },
   "outputs": [],
   "source": [
    "teamnames = [\"Doggies\", \"Tigers\", \"Cats\", \"Roos\"]"
   ]
  },
  {
   "cell_type": "code",
   "execution_count": null,
   "metadata": {
    "slideshow": {
     "slide_type": "slide"
    }
   },
   "outputs": [],
   "source": [
    "#run the countdown show\n",
    "w, lb= countdown(teamnames)\n",
    "display(w)"
   ]
  },
  {
   "cell_type": "code",
   "execution_count": null,
   "metadata": {
    "slideshow": {
     "slide_type": "slide"
    }
   },
   "outputs": [],
   "source": [
    "playclick(lb)"
   ]
  },
  {
   "cell_type": "markdown",
   "metadata": {
    "slideshow": {
     "slide_type": "slide"
    }
   },
   "source": [
    "###  So what have we learned?"
   ]
  },
  {
   "cell_type": "markdown",
   "metadata": {
    "slideshow": {
     "slide_type": "fragment"
    }
   },
   "source": [
    " - We input text data into a python program as a  \n",
    " ```python \n",
    "\"String\"\n",
    "```"
   ]
  },
  {
   "cell_type": "markdown",
   "metadata": {
    "slideshow": {
     "slide_type": "fragment"
    }
   },
   "source": [
    " - We assigned strings to a variable: \n",
    " ```python\n",
    "L = 'abcde'\n",
    "```"
   ]
  },
  {
   "cell_type": "markdown",
   "metadata": {
    "slideshow": {
     "slide_type": "slide"
    }
   },
   "source": [
    " - We input our string into a magic doodad to **WIN COUNTDOWN!!!** `all_words(L)`"
   ]
  },
  {
   "cell_type": "markdown",
   "metadata": {
    "slideshow": {
     "slide_type": "slide"
    }
   },
   "source": [
    "\n",
    "### But this reminds me of a story from home about John Henry"
   ]
  },
  {
   "cell_type": "markdown",
   "metadata": {
    "slideshow": {
     "slide_type": "fragment"
    }
   },
   "source": [
    "<center><img src=\"imbedded_pics\\John_henry1.png\" alt=\"aus_slang\" style=\"width:auto;height:60vh\"></center>"
   ]
  },
  {
   "cell_type": "markdown",
   "metadata": {
    "slideshow": {
     "slide_type": "slide"
    }
   },
   "source": [
    "<center><img src=\"imbedded_pics\\Johnhenry2.png\" alt=\"aus_slang\" style=\"width:auto;height:60vh\"></center>"
   ]
  },
  {
   "cell_type": "markdown",
   "metadata": {
    "slideshow": {
     "slide_type": "slide"
    }
   },
   "source": [
    "<center><img src=\"imbedded_pics\\JH3.png\" alt=\"aus_slang\" style=\"width:auto;height:60vh\"></center>"
   ]
  },
  {
   "cell_type": "markdown",
   "metadata": {
    "slideshow": {
     "slide_type": "slide"
    }
   },
   "source": [
    "### Python is not here to replace you"
   ]
  },
  {
   "cell_type": "markdown",
   "metadata": {
    "slideshow": {
     "slide_type": "fragment"
    }
   },
   "source": [
    "  - There is no `do_my_work_for_me()` function"
   ]
  },
  {
   "cell_type": "markdown",
   "metadata": {
    "slideshow": {
     "slide_type": "fragment"
    }
   },
   "source": [
    " - But we can teach you to make your own special powers"
   ]
  },
  {
   "cell_type": "markdown",
   "metadata": {
    "slideshow": {
     "slide_type": "slide"
    }
   },
   "source": [
    "### Python is here to help you"
   ]
  },
  {
   "cell_type": "markdown",
   "metadata": {
    "slideshow": {
     "slide_type": "fragment"
    }
   },
   "source": [
    " - Automate and save time"
   ]
  },
  {
   "cell_type": "markdown",
   "metadata": {
    "slideshow": {
     "slide_type": "fragment"
    }
   },
   "source": [
    " - Do more advanced analysis"
   ]
  },
  {
   "cell_type": "markdown",
   "metadata": {
    "slideshow": {
     "slide_type": "fragment"
    }
   },
   "source": [
    " - Help you communicate your methods and visualize data"
   ]
  },
  {
   "cell_type": "markdown",
   "metadata": {
    "slideshow": {
     "slide_type": "skip"
    }
   },
   "source": [
    "### Leaving you more time to"
   ]
  },
  {
   "cell_type": "markdown",
   "metadata": {
    "slideshow": {
     "slide_type": "skip"
    }
   },
   "source": [
    " - Write Papers"
   ]
  },
  {
   "cell_type": "markdown",
   "metadata": {
    "slideshow": {
     "slide_type": "skip"
    }
   },
   "source": [
    "- Think of the next great research questions"
   ]
  },
  {
   "cell_type": "markdown",
   "metadata": {
    "slideshow": {
     "slide_type": "skip"
    }
   },
   "source": [
    " - collect more data"
   ]
  },
  {
   "cell_type": "markdown",
   "metadata": {
    "slideshow": {
     "slide_type": "skip"
    }
   },
   "source": [
    " - Live your **bloody life!**"
   ]
  },
  {
   "cell_type": "markdown",
   "metadata": {
    "slideshow": {
     "slide_type": "skip"
    }
   },
   "source": [
    "### So Ready to work smarter and not harder?\n",
    "<center><img src=\"imbedded_pics\\crossarms_gif.gif\" alt=\"aus_slang\" style=\"width:auto;height:60vh\"></center>"
   ]
  },
  {
   "attachments": {
    "image.png": {
     "image/png": "[encoded data removed]"
    }
   },
   "cell_type": "markdown",
   "metadata": {
    "slideshow": {
     "slide_type": "skip"
    }
   },
   "source": [
    "### Then come to Pythonista cooking class! and follow me at @GeoGarber\n",
    "\n",
    "\n",
    "![image.png](attachment:image.png)\n"
   ]
  },
  {
   "cell_type": "code",
   "execution_count": null,
   "metadata": {},
   "outputs": [],
   "source": []
  }
 ],
 "metadata": {
  "celltoolbar": "Slideshow",
  "kernelspec": {
   "display_name": "Python 3",
   "language": "python",
   "name": "python3"
  },
  "language_info": {
   "codemirror_mode": {
    "name": "ipython",
    "version": 3
   },
   "file_extension": ".py",
   "mimetype": "text/x-python",
   "name": "python",
   "nbconvert_exporter": "python",
   "pygments_lexer": "ipython3",
   "version": "3.9.2"
  }
 },
 "nbformat": 4,
 "nbformat_minor": 2
}
